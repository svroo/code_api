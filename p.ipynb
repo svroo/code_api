{
 "cells": [
  {
   "cell_type": "code",
   "execution_count": null,
   "id": "ed3be919",
   "metadata": {},
   "outputs": [],
   "source": [
    "a = {\n",
    "    \"variables\": {\"x\": \"\", \"usrnm\": \"\"},\n",
    "    \"metodos\": {\"calculo\": \"\", \"getUsr\": \"\"},\n",
    "    \"clases\": {\"datosUsr\": \"\"},\n",
    "}\n",
    "# if code is not None:  # and typeRecomendation is not None:\n",
    "prompt = f\"\"\"\n",
    "Quiero que generes sugerencias de nombres siguiendo buenas prácticas de nomenclatura en Java.\n",
    "Para el siguiente código, {a}\n",
    "El formato de salida debe ser un JSON donde:\n",
    "- La llave principal sea el tipo de elemento que se va a modificar: \"variables\", \"métodos\", \"clases\".\n",
    "- El valor de cada llave principal sea otro JSON con pares clave-valor, donde:\n",
    "- La clave sea el nombre actual del elemento.\n",
    "- El valor sea la sugerencia de un nuevo nombre siguiendo buenas prácticas de legibilidad, significado y estilo.\n",
    "\n",
    "Reglas específicas:\n",
    "- Usa `camelCase` para variables y métodos.\n",
    "- Usa `PascalCase` para clases.\n",
    "- Evita modificar el nombre del parámetro `args` en `public static void main(String[] args)`, ya que es una convención en Java.\n",
    "- Genera nombres que sean lo suficientemente descriptivos sin ser excesivamente largos.\n",
    "\n",
    "Ejemplo de entrada:\n",
    "```json\n",
    "{a}\n",
    "No expliques nada simplemente retorna la respuesta.\n",
    "\"\"\""
   ]
  },
  {
   "cell_type": "code",
   "execution_count": null,
   "id": "03f6d739",
   "metadata": {},
   "outputs": [],
   "source": [
    "\"\"\"public class Calculadora {\n",
    "    public int sumar(int a, int b) {\n",
    "        return a + b;\n",
    "    }\n",
    "}\"\"\""
   ]
  },
  {
   "cell_type": "markdown",
   "id": "c714cd27",
   "metadata": {},
   "source": []
  },
  {
   "cell_type": "code",
   "execution_count": 3,
   "id": "c42aba15",
   "metadata": {},
   "outputs": [
    {
     "data": {
      "text/plain": [
       "'\\npublic class Libro {\\n    String titulo;\\n    public Libro(String titulo) {\\n        this.titulo = titulo;\\n    }\\n}\\n'"
      ]
     },
     "execution_count": 3,
     "metadata": {},
     "output_type": "execute_result"
    }
   ],
   "source": [
    "\"\"\"\n",
    "public class Libro {\n",
    "    String titulo;\n",
    "    public Libro(String titulo) {\n",
    "        this.titulo = titulo;\n",
    "    }\n",
    "}\n",
    "\"\"\"\n"
   ]
  }
 ],
 "metadata": {
  "kernelspec": {
   "display_name": "tt_env",
   "language": "python",
   "name": "python3"
  },
  "language_info": {
   "codemirror_mode": {
    "name": "ipython",
    "version": 3
   },
   "file_extension": ".py",
   "mimetype": "text/x-python",
   "name": "python",
   "nbconvert_exporter": "python",
   "pygments_lexer": "ipython3",
   "version": "3.12.9"
  }
 },
 "nbformat": 4,
 "nbformat_minor": 5
}
